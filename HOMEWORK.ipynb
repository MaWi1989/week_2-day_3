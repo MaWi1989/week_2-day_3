{
 "cells": [
  {
   "cell_type": "markdown",
   "metadata": {},
   "source": [
    "# Dictionaries & Sets"
   ]
  },
  {
   "cell_type": "markdown",
   "metadata": {},
   "source": [
    "## Tasks Today:\n",
    "\n",
    "1) Dictionary <br>\n",
    " &nbsp;&nbsp;&nbsp;&nbsp; a) Declaring (key, value) <br>\n",
    " &nbsp;&nbsp;&nbsp;&nbsp; b) Accessing Values <br>\n",
    " &nbsp;&nbsp;&nbsp;&nbsp; ------ Exercise #1 - Print the eye color of each person in a double nested dict <br>\n",
    " &nbsp;&nbsp;&nbsp;&nbsp; c) Adding New Pairs <br>\n",
    " &nbsp;&nbsp;&nbsp;&nbsp; d) Modifying Values <br>\n",
    " &nbsp;&nbsp;&nbsp;&nbsp; e) Removing Key, Value Pairs <br>\n",
    " &nbsp;&nbsp;&nbsp;&nbsp; f) Looping a Dictionary <br>\n",
    " &nbsp;&nbsp;&nbsp;&nbsp; g) Looping Only Keys <br>\n",
    " &nbsp;&nbsp;&nbsp;&nbsp; h) Looping Only Values <br>\n",
    " &nbsp;&nbsp;&nbsp;&nbsp; ------ Exercise #2 - Create a program\n",
    " that Prints All Key Value Pairs within a print .format()  <br>\n",
    " &nbsp;&nbsp;&nbsp;&nbsp; i) sorted() <br>\n",
    " &nbsp;&nbsp;&nbsp;&nbsp; j) Lists with Dictionaries <br>\n",
    " &nbsp;&nbsp;&nbsp;&nbsp; k) Dictionaries with Lists <br>\n",
    " &nbsp;&nbsp;&nbsp;&nbsp; l) Dictionaries with Dictionaries <br>\n",
    " &nbsp;&nbsp;&nbsp;&nbsp; ------ Exercise #3 - Write a Function that asks someone's name and address, and then stores that into a dictionary, which prints all names and addresses after they're done putting information in...  <br>\n",
    "2) Dictionaries vs. Lists (over time)<br>\n",
    "3) Set <br>\n",
    " &nbsp;&nbsp;&nbsp;&nbsp; a) Declaring <br>\n",
    " &nbsp;&nbsp;&nbsp;&nbsp; b) .add() <br>\n",
    " &nbsp;&nbsp;&nbsp;&nbsp; c) .remove() <br>\n",
    " &nbsp;&nbsp;&nbsp;&nbsp; d) .union() <br>\n",
    " &nbsp;&nbsp;&nbsp;&nbsp; e) .intersection() <br>\n",
    " &nbsp;&nbsp;&nbsp;&nbsp; f) .difference() <br>\n",
    " &nbsp;&nbsp;&nbsp;&nbsp; g) Frozen Set <br>\n",
    "4) Modules <br>\n",
    " &nbsp;&nbsp;&nbsp;&nbsp; a) Importing Entire Modules <br>\n",
    " &nbsp;&nbsp;&nbsp;&nbsp; b) Importing Methods Only <br>\n",
    " &nbsp;&nbsp;&nbsp;&nbsp; c) Using the 'as' Keyword <br>\n",
    " &nbsp;&nbsp;&nbsp;&nbsp; d) Creating a Module <br>\n",
    "5) Exercises <br>\n",
    " &nbsp;&nbsp;&nbsp;&nbsp; a) Build a Shopping Cart <br>\n",
    " &nbsp;&nbsp;&nbsp;&nbsp; b) Create Your Own Module <br>"
   ]
  },
  {
   "cell_type": "markdown",
   "metadata": {},
   "source": [
    "## Dictionary <br>\n",
    "<p>A collection of data with 'key:value' pairs. Dictionaries are ordered as of Python 3.6</p>"
   ]
  },
  {
   "cell_type": "markdown",
   "metadata": {},
   "source": [
    "##### Declaring (key, value)"
   ]
  },
  {
   "cell_type": "code",
   "execution_count": 5,
   "metadata": {},
   "outputs": [],
   "source": [
    "d1 = {}\n",
    "\n",
    "# or\n",
    "\n",
    "d2 = dict()\n",
    "\n",
    "d_3 = {\n",
    "    \"Tom\":\"255 Main street\",\n",
    "    \"Jerry\":\"256 Main Street\",\n",
    "    0:\"This is a zero\",\n",
    "}\n",
    "\n"
   ]
  },
  {
   "cell_type": "markdown",
   "metadata": {},
   "source": [
    "##### Accessing Values"
   ]
  },
  {
   "cell_type": "code",
   "execution_count": 6,
   "metadata": {},
   "outputs": [
    {
     "name": "stdout",
     "output_type": "stream",
     "text": [
      "255 Main street\n",
      "256 Main Street\n",
      "This is a zero\n"
     ]
    }
   ],
   "source": [
    "print(d_3[\"Tom\"])\n",
    "print(d_3[\"Jerry\"])\n",
    "print(d_3[0])\n"
   ]
  },
  {
   "cell_type": "code",
   "execution_count": 62,
   "metadata": {},
   "outputs": [
    {
     "name": "stdout",
     "output_type": "stream",
     "text": [
      "dragon statue\n"
     ]
    }
   ],
   "source": [
    "# non-unique values\n",
    "\n",
    "d_1 = {\n",
    "    'name':'mega man',\n",
    "    'name': 'dragon statue'\n",
    "}\n",
    "\n",
    "print(d_1['name'])"
   ]
  },
  {
   "cell_type": "markdown",
   "metadata": {},
   "source": [
    "## In-Class Exercise #1 - Print a formatted statement from the dictionary below <br>\n",
    "<p>The output should be '2018 Chevrolet Silverado'</p>"
   ]
  },
  {
   "cell_type": "code",
   "execution_count": 16,
   "metadata": {},
   "outputs": [
    {
     "name": "stdout",
     "output_type": "stream",
     "text": [
      "2018 Chevrolet Silverado\n",
      "2018 Chevrolet Silverado\n"
     ]
    }
   ],
   "source": [
    "# use the dict below\n",
    "truck = {\n",
    "    \"year\": 2018,\n",
    "    'make': 'Chevrolet',\n",
    "    'model': 'Silverado'\n",
    "}\n",
    "\n",
    "print(truck[\"year\"], truck[\"make\"], \n",
    "      truck[\"model\"])\n",
    "\n",
    "print(f'{truck[\"year\"]} {truck[\"make\"]} {truck[\"model\"]}')"
   ]
  },
  {
   "cell_type": "markdown",
   "metadata": {},
   "source": [
    "##### Adding New Pairs"
   ]
  },
  {
   "cell_type": "code",
   "execution_count": 18,
   "metadata": {},
   "outputs": [
    {
     "name": "stdout",
     "output_type": "stream",
     "text": [
      "{'Tom': '255 Main Street', 'Jerry': '256 Main Street', 0: 'This is a 0'}\n",
      "{'Tom': '255 Main Street', 'Jerry': '256 Main Street', 0: 'This is a 0', 'Spike': '257 Main Street', 'Tike': '257 Main Street'}\n"
     ]
    }
   ],
   "source": [
    "# dict[key] = value\n",
    "d_3 = {\n",
    "    \"Tom\": \"255 Main Street\",\n",
    "    \"Jerry\": \"256 Main Street\",\n",
    "    0: \"This is a 0\"\n",
    "}\n",
    "print(d_3)\n",
    "\n",
    "d_3['Spike'] = '257 Main Street'\n",
    "d_3['Tike'] = '257 Main Street'\n",
    "\n",
    "print(d_3)"
   ]
  },
  {
   "cell_type": "markdown",
   "metadata": {},
   "source": [
    "##### Modifying Values"
   ]
  },
  {
   "cell_type": "code",
   "execution_count": 24,
   "metadata": {},
   "outputs": [
    {
     "name": "stdout",
     "output_type": "stream",
     "text": [
      "{'beverage': 'coffee'}\n",
      "{'beverage': 'coffee', 'beverage2': 'coke'}\n"
     ]
    }
   ],
   "source": [
    "#dict[key] = \"new value\" if key already exists in dict\n",
    "\n",
    "d_4 = {\"beverage\" : \"water\"}\n",
    "\n",
    "d_4[\"beverage\"] = \"coffee\"\n",
    "\n",
    "print(d_4)\n",
    "\n",
    "if \"beverage2\" not in d_4:\n",
    "    d_4[\"beverage2\"] = \"coke\"\n",
    "    \n",
    "print(d_4)\n",
    "    "
   ]
  },
  {
   "cell_type": "code",
   "execution_count": 103,
   "metadata": {},
   "outputs": [
    {
     "name": "stdout",
     "output_type": "stream",
     "text": [
      "{'Jerry': '254 Main Street', 0: 'This is a 0', 'Tike': '258 Main Street 60618'}\n"
     ]
    }
   ],
   "source": [
    "print(d_3)"
   ]
  },
  {
   "cell_type": "code",
   "execution_count": 65,
   "metadata": {},
   "outputs": [
    {
     "name": "stdout",
     "output_type": "stream",
     "text": [
      "{1: 1}\n",
      "{1: 1, 3: 1}\n",
      "{1: 1, 3: 1, 4: 1}\n",
      "{1: 1, 3: 1, 4: 1, 6: 1}\n",
      "{1: 1, 3: 1, 4: 1, 6: 1, 7: 1}\n",
      "{1: 1, 3: 1, 4: 1, 6: 1, 7: 1, 10: 1}\n",
      "{1: 1, 3: 1, 4: 1, 6: 1, 7: 1, 10: 1, 5: 1}\n"
     ]
    }
   ],
   "source": [
    "my_list = [1, 1, 3, 4, 6, 7, 7, 10, 1, 4, 5]\n",
    "my_dict = {}\n",
    "for num in my_list:\n",
    "    if num not in my_dict:\n",
    "        my_dict[num] = 1\n",
    "        print(my_dict)\n",
    "#     else:\n",
    "#         my_dict[num] += 1\n",
    "#         print(my_dict)"
   ]
  },
  {
   "cell_type": "markdown",
   "metadata": {},
   "source": [
    "##### Removing Key, Value Pairs"
   ]
  },
  {
   "cell_type": "code",
   "execution_count": null,
   "metadata": {},
   "outputs": [],
   "source": [
    "# del dict[key]\n",
    "# del(my_list[0]) or del dict[key] or del my_list[0]\n",
    "\n",
    "del d_3[0]\n"
   ]
  },
  {
   "cell_type": "markdown",
   "metadata": {},
   "source": [
    "##### Looping a Dictionary"
   ]
  },
  {
   "cell_type": "code",
   "execution_count": 28,
   "metadata": {},
   "outputs": [
    {
     "name": "stdout",
     "output_type": "stream",
     "text": [
      "Tom lives at 255 Main Street.\n",
      "Jerry lives at 256 Main Street.\n",
      "0 lives at This is a 0.\n"
     ]
    }
   ],
   "source": [
    "# dict.items()\n",
    "d_3 = {\n",
    "    \"Tom\": \"255 Main Street\",\n",
    "    \"Jerry\": \"256 Main Street\",\n",
    "    0: \"This is a 0\"\n",
    "}\n",
    "\n",
    "for k, v in d_3.items():\n",
    "    print(f\"{k} lives at {v}.\")"
   ]
  },
  {
   "cell_type": "code",
   "execution_count": 67,
   "metadata": {},
   "outputs": [
    {
     "name": "stdout",
     "output_type": "stream",
     "text": [
      "0 Chuck\n",
      "1 Desiree\n",
      "2 Ben\n",
      "3 Ethan\n",
      "0 Chuck\n",
      "1 Desiree\n",
      "2 Ben\n",
      "3 Ethan\n",
      "{0: 'Chuck', 1: 'Desiree', 2: 'Ben', 3: 'Ethan'}\n",
      "{0: 'Chuck', 1: 'Desiree', 2: 'Ben', 3: 'Ethan'}\n"
     ]
    }
   ],
   "source": [
    "# enumerate\n",
    "\n",
    "my_list = ['Chuck', 'Desiree', 'Ben', 'Ethan']\n",
    "\n",
    "names_dict = {}\n",
    "\n",
    "for i, name in enumerate(my_list):\n",
    "    print(i, name)\n",
    "    names_dict[i] = name\n",
    "    \n",
    "for k, v in names_dict.items():\n",
    "     print(k,v)\n",
    "        \n",
    "print(names_dict)\n",
    "\n",
    "names_dict_2 = {k:v for k, v in enumerate(my_list)}\n",
    "\n",
    "print(names_dict_2)\n",
    "\n",
    "    "
   ]
  },
  {
   "cell_type": "markdown",
   "metadata": {},
   "source": [
    "##### Looping Only Keys"
   ]
  },
  {
   "cell_type": "code",
   "execution_count": 29,
   "metadata": {
    "scrolled": true
   },
   "outputs": [
    {
     "name": "stdout",
     "output_type": "stream",
     "text": [
      "Tom\n",
      "Jerry\n",
      "0\n",
      "Tom\n",
      "Jerry\n",
      "0\n"
     ]
    }
   ],
   "source": [
    "# dict.keys()\n",
    "\n",
    "for key in d_3:\n",
    "    print(key)\n",
    "    \n",
    "for name in d_3.keys():\n",
    "    print(name)"
   ]
  },
  {
   "cell_type": "markdown",
   "metadata": {},
   "source": [
    "##### Looping Only Values"
   ]
  },
  {
   "cell_type": "code",
   "execution_count": 35,
   "metadata": {
    "scrolled": true
   },
   "outputs": [
    {
     "name": "stdout",
     "output_type": "stream",
     "text": [
      "255 Main Street\n",
      "256 Main Street\n",
      "This is a 0\n",
      "Tom lives here.\n",
      "256 Main Street\n",
      "This is a 0\n"
     ]
    }
   ],
   "source": [
    "# dict.values()\n",
    "\n",
    "for address in d_3.values():\n",
    "    print(address)\n",
    "\n",
    "    \n",
    "for address in d_3.values():\n",
    "    if address == \"255 Main Street\":\n",
    "        print(\"Tom lives here.\")\n",
    "    elif address == \"This is a 0.\":\n",
    "        d_3[0] += \"It lives nowhere.\"\n",
    "        print(d_3[0]) \n",
    "    else:\n",
    "        print(address)\n",
    "        \n",
    "    "
   ]
  },
  {
   "cell_type": "markdown",
   "metadata": {},
   "source": [
    "## In-Class Exercise #2 - Create a Function that Prints All Key Value Pairs within a formatted string  <br>\n",
    "<p><b>Output should be:</b><br>\n",
    "Max has blue eyes<br>\n",
    "Lilly has brown eyes<br>\n",
    "Barney has blue eyes<br>\n",
    "etc.\n",
    "</p>"
   ]
  },
  {
   "cell_type": "code",
   "execution_count": 39,
   "metadata": {},
   "outputs": [],
   "source": [
    "# use the dict below\n",
    "people = {\n",
    "    'Max' : 'blue',\n",
    "    'Lilly' : 'brown',\n",
    "    'Barney' : 'green',\n",
    "    'Ted' : 'purple',\n",
    "    'Sasuke' : 'sharingan',  \n",
    "}\n"
   ]
  },
  {
   "cell_type": "code",
   "execution_count": 42,
   "metadata": {},
   "outputs": [
    {
     "name": "stdout",
     "output_type": "stream",
     "text": [
      "Max has blue eyes.\n",
      "Lilly has brown eyes.\n",
      "Barney has green eyes.\n",
      "Ted has purple eyes.\n",
      "Sasuke has sharingan eyes.\n"
     ]
    }
   ],
   "source": [
    "def eyes(k,v):\n",
    "    for k, v in people.items():\n",
    "        print(f\"{k} has {v} eyes.\")\n",
    "\n",
    "eyes(k,v)\n",
    "          \n",
    "          "
   ]
  },
  {
   "cell_type": "code",
   "execution_count": 43,
   "metadata": {},
   "outputs": [
    {
     "name": "stdout",
     "output_type": "stream",
     "text": [
      "Max has blue eyes.\n",
      "Lilly has brown eyes.\n",
      "Barney has green eyes.\n",
      "Ted has purple eyes.\n",
      "Sasuke has sharingan eyes.\n"
     ]
    }
   ],
   "source": [
    "def eyes(k,v):\n",
    "    for k, v in people.items():\n",
    "        print(f\"{k} has {v} eyes.\")\n",
    "\n",
    "eyes(k,v)"
   ]
  },
  {
   "cell_type": "code",
   "execution_count": null,
   "metadata": {},
   "outputs": [],
   "source": []
  },
  {
   "cell_type": "markdown",
   "metadata": {},
   "source": [
    "##### sorted()"
   ]
  },
  {
   "cell_type": "code",
   "execution_count": null,
   "metadata": {},
   "outputs": [],
   "source": [
    "print(\"Values:\", sorted(people.items()))\n",
    "# ...\n",
    "\n"
   ]
  },
  {
   "cell_type": "markdown",
   "metadata": {},
   "source": [
    "##### List with Dictionaries"
   ]
  },
  {
   "cell_type": "code",
   "execution_count": null,
   "metadata": {},
   "outputs": [],
   "source": []
  },
  {
   "cell_type": "code",
   "execution_count": null,
   "metadata": {},
   "outputs": [],
   "source": []
  },
  {
   "cell_type": "markdown",
   "metadata": {},
   "source": [
    "##### Dictionaries with Lists"
   ]
  },
  {
   "cell_type": "code",
   "execution_count": 45,
   "metadata": {},
   "outputs": [
    {
     "name": "stdout",
     "output_type": "stream",
     "text": [
      "1\n",
      "Mary\n"
     ]
    }
   ],
   "source": [
    "random_data = {\n",
    "    \"list_1\" : [1, 3, 5, 7, 9],\n",
    "    \"names\" : ['John', 'Mary', 'Joe', 'Kyle'],\n",
    "    1 : [1, 1, 1, 1],\n",
    "}\n",
    "\n",
    "print(random_data[1][1])\n",
    "print(random_data['names'][1])"
   ]
  },
  {
   "cell_type": "code",
   "execution_count": 47,
   "metadata": {},
   "outputs": [
    {
     "name": "stdout",
     "output_type": "stream",
     "text": [
      "transform\n"
     ]
    }
   ],
   "source": [
    "ditto = {\n",
    "    'abilities':[{'name':'transform'}, {'name':'another transform'}]\n",
    "    \n",
    "}\n",
    "\n",
    "print(ditto['abilities'][0]['name'])"
   ]
  },
  {
   "cell_type": "markdown",
   "metadata": {},
   "source": [
    "##### Dictionaries with Dictionaries"
   ]
  },
  {
   "cell_type": "code",
   "execution_count": 55,
   "metadata": {
    "scrolled": false
   },
   "outputs": [
    {
     "name": "stdout",
     "output_type": "stream",
     "text": [
      "Here are all our favorite foods:\n",
      "\n",
      "Ryan's favorite foods are: \n",
      "Tacos\n",
      "Tortas\n",
      "Burritos\n",
      "Pie\n",
      "Brownies\n",
      "Chocolate Chip Cookies\n",
      "\n",
      "Alex's favorite foods are: \n",
      "Pupusas\n",
      "Tacos\n",
      "Fajitas\n",
      "Pastries\n",
      "Ice Cream\n",
      "Canollis\n",
      "Cheesecake\n",
      "Chantilly Cupcakes\n",
      "Cobbler\n",
      "Pie\n",
      "\n",
      "Manja's favorite foods are: \n",
      "Sushi\n",
      "Shrimp Fried Rice\n",
      "Spring Rolls\n",
      "Chocolate\n",
      "Swedish Fish\n",
      "Soft Serve Ice Cream\n",
      "Chocolate Lava Cake\n",
      "Creme Brulee\n",
      "\n",
      "Ethan's favorite foods are: \n",
      "KGLW\n",
      "Uncle Spudd\n",
      "Your moms house\n",
      "MF DOOM\n",
      "Kendrick\n",
      "Andrae 3000\n",
      "\n",
      "Enoch's favorite foods are: \n",
      "Sushi\n",
      "Tempura\n",
      "Onigiri\n",
      "Cheesecake\n",
      "Applie Pie\n",
      "Yuzu Creme Brulee\n",
      "\n",
      "Htae's favorite foods are: \n",
      "Miso\n",
      "Shoyu\n",
      "Shin\n",
      "Dr.Pepper\n",
      "Water\n",
      "Boba tea\n",
      "\n",
      "Dez's favorite foods are: \n",
      "Sushi\n",
      "Ramen\n",
      "Pho\n",
      "Curry\n",
      "Sidecar\n",
      "Sk's\n",
      "Doughnuttery\n",
      "\n",
      "Dharti's favorite foods are: \n",
      "Paneer\n",
      "Rajma\n",
      "Naan\n",
      "Jalabi\n",
      "Mohanthal\n",
      "icecream\n",
      "\n",
      "Lyle's favorite foods are: \n",
      "airmax\n",
      "jordan\n",
      "cortez\n",
      "stansmiths\n",
      "promodel\n",
      "nmd\n",
      "\n",
      "Daniel's favorite foods are: \n",
      "garri\n",
      "fufu\n",
      "egusi\n",
      "rice\n",
      "beans\n",
      "eba\n",
      "\n",
      "Chuck's favorite foods are: \n",
      "Cheese_Burger\n",
      "Fries\n",
      "Coke\n",
      "Cheese_Cake\n",
      "Milk_Shake\n",
      "Cake\n",
      "\n",
      "Ben's favorite foods are: \n",
      "Tika Masala\n",
      "Naan\n",
      "Chapati\n",
      "Chicken Curry\n",
      "Fish Curry\n",
      "Cheesecake\n",
      "Empanadas\n",
      "Churros\n",
      "Ice Cream\n",
      "Mangonada\n",
      "\n",
      "Ewa's favorite foods are: \n",
      "Pizza\n",
      "Pasta\n",
      "Dessert\n",
      "Tacos\n",
      "Burritos\n",
      "Dessert\n",
      "\n",
      "Salim's favorite foods are: \n",
      "lent soup , kebaba , Gyro \n",
      "Baklava, basbousa ,maamoul\n"
     ]
    }
   ],
   "source": [
    "food_dict = {\n",
    "    \"Ryan\":{\n",
    "   \"Mexican\":[\"Tacos\", \"Tortas\", \"Burritos\"],\n",
    "    \"Dessert\":[\"Pie\", \"Brownies\", \"Chocolate Chip Cookies\"],    \n",
    "    },\n",
    "    \"Alex\":{\n",
    "    \"Hispanic\": ['Pupusas', 'Tacos', 'Fajitas'],\n",
    "    \"Sweets\": ['Pastries', 'Ice Cream', 'Canollis'],\n",
    "    \"More Sweets\" : ['Cheesecake', 'Chantilly Cupcakes', 'Cobbler', 'Pie']\n",
    "    },\n",
    "    \"Manja\":{\n",
    "    \"Asian\":[\"Sushi\", \"Shrimp Fried Rice\", \"Spring Rolls\"],\n",
    "    \"Candy\":[\"Chocolate\", \"Swedish Fish\"],\n",
    "    \"Dessert\":[\"Soft Serve Ice Cream\", \"Chocolate Lava Cake\", \"Creme Brulee\"],\n",
    "    },\n",
    "    \"Ryan\": {\n",
    "        \"Mexican\": [\"Tacos\", \"Tortas\", \"Burritos\"],\n",
    "        \"Desserts\": ['Pie', \"Brownies\", \"Chocolate Chip Cookies\"]\n",
    "    },\n",
    "     \"Ethan\": {\n",
    "        \"Rock\": ['KGLW', 'Uncle Spudd', 'Your moms house'], \n",
    "        'Rap': ['MF DOOM', 'Kendrick', 'Andrae 3000']\n",
    "    },\n",
    "    \"Enoch\": {\n",
    "        \"Japanese\":[\"Sushi\", \"Tempura\", \"Onigiri\"],\n",
    "        \"Desserts\":[\"Cheesecake\", \"Applie Pie\", \"Yuzu Creme Brulee\"]\n",
    "    },\n",
    "    \"Htae\": {\n",
    "        \"Ramen\": [\"Miso\", \"Shoyu\", \"Shin\"],\n",
    "        \"Drinks\": [\"Dr.Pepper\", \"Water\", \"Boba tea\"]\n",
    "    },\n",
    "    \"Dez\": {\n",
    "        \"Asian\":[\"Sushi\", \"Ramen\", \"Pho\", \"Curry\"],\n",
    "        \"Doughnt_shops\": [\"Sidecar\",\"Sk's\", \"Doughnuttery\"]\n",
    "    },\n",
    "    \"Dharti\": {\n",
    "        \"Indian\": [\"Paneer\",\"Rajma\",\"Naan\"],\n",
    "        \"Sweet\": [\"Jalabi\",\"Mohanthal\",\"icecream\"]\n",
    "    },\n",
    "      \"Lyle\": {\n",
    "        'nike': ['airmax', 'jordan', 'cortez'],\n",
    "        'adidas': ['stansmiths', 'promodel', 'nmd']\n",
    "    },\n",
    "    'Daniel' :{\n",
    "    'Afri':['garri', 'fufu', 'egusi'],\n",
    "    'easyfood':['rice', 'beans', 'eba']\n",
    "    },\n",
    "    \"Chuck\": {\n",
    "       \"American\" : ['Cheese_Burger', 'Fries', 'Coke'],\n",
    "       \"Desserts\" : ['Cheese_Cake', 'Milk_Shake', 'Cake'],\n",
    "    },\n",
    "    \"Ben\": {\n",
    "    \"Indian\": [\"Tika Masala\", \"Naan\", \"Chapati\", \"Chicken Curry\", \"Fish Curry\",],\n",
    "    \"Desserts\": [\"Cheesecake\", \"Empanadas\", \"Churros\", \"Ice Cream\", \"Mangonada\"],\n",
    "    },\n",
    "    'Ewa': {\n",
    "    'Italian': {\n",
    "        'Pizza': ['Margherita', 'Pepperoni', 'Capricciosa'],\n",
    "        'Pasta': ['Spaghetti Bolognese', 'Carbonara', 'Pesto'],\n",
    "        'Dessert': ['Tiramisu', 'Panna Cotta', 'Cannoli']\n",
    "    },\n",
    "    \n",
    "    'Mexican': {\n",
    "        'Tacos': ['Al Pastor', 'Carnitas', 'Barbacoa'],\n",
    "        'Burritos': ['Bean and Cheese', 'Carne Asada', 'Chicken'],\n",
    "        'Dessert': ['Churros', 'Flan', 'Sopapillas']\n",
    "        }\n",
    "    },\n",
    "     \"Salim\" : {\n",
    "        \"turkish\" :[\"lent soup , kebaba , Gyro \"],\n",
    "        \"Dessert \" :[\"Baklava, basbousa ,maamoul\"]\n",
    "    }\n",
    "    \n",
    "    }\n",
    "\n",
    "        \n",
    "print(\"Here are all our favorite foods:\", )\n",
    "    \n",
    "for name in food_dict.keys():\n",
    "    print(f\"\\n{name}'s favorite foods are: \")\n",
    "    for food_type in food_dict[name].keys():\n",
    "        for food in food_dict[name][food_type]:\n",
    "            print(food)  \n",
    "         \n"
   ]
  },
  {
   "cell_type": "code",
   "execution_count": null,
   "metadata": {},
   "outputs": [],
   "source": []
  },
  {
   "cell_type": "code",
   "execution_count": null,
   "metadata": {},
   "outputs": [],
   "source": []
  },
  {
   "cell_type": "code",
   "execution_count": null,
   "metadata": {},
   "outputs": [],
   "source": []
  },
  {
   "cell_type": "code",
   "execution_count": null,
   "metadata": {},
   "outputs": [],
   "source": []
  },
  {
   "cell_type": "markdown",
   "metadata": {},
   "source": [
    "## Dictionaries vs. Lists (over time) Example of RUNTIME\n",
    "### When inputting values in a Dictionary vs List"
   ]
  },
  {
   "cell_type": "code",
   "execution_count": null,
   "metadata": {},
   "outputs": [],
   "source": []
  },
  {
   "cell_type": "code",
   "execution_count": null,
   "metadata": {},
   "outputs": [],
   "source": []
  },
  {
   "cell_type": "markdown",
   "metadata": {},
   "source": [
    "## Exercise #3 - Write a Function that asks someone's name and address, and then stores that into a dictionary, and continues to do so until they choose to 'quit'. Once they quit, the program should print all names and addresses. <br>\n",
    "<p>\n",
    "<b>Proper steps:</b><br>\n",
    "step 1: write a function that takes in information and stores it in a dictionary<br>\n",
    "step 2: define an empty dictionary to work with<br>\n",
    "step 3: create our loop, which asks the user for information until they quit<br>\n",
    "step 4: ask for the information, and store it into variables<br>\n",
    "step 5: check if the user types quit<br>\n",
    "step 5a: print out all information<br>\n",
    "step 5b: break out of the loop<br>\n",
    "step 6: if they didn't quit, add the information to the dictionary<br>\n",
    "step 7: invoke the function by calling it\n",
    "</p>"
   ]
  },
  {
   "cell_type": "code",
   "execution_count": null,
   "metadata": {},
   "outputs": [],
   "source": [
    "import time \n",
    "\n",
    "# generate dictionary\n",
    "\n",
    "d = {}\n",
    "\n",
    "for i in range(1000000):\n",
    "    d[i] = \"value\" + str(i)\n",
    "    \n",
    "    \n",
    "# generate a list\n",
    "\n",
    "big_list = [x for x in range(1000000)]\n",
    "\n"
   ]
  },
  {
   "cell_type": "code",
   "execution_count": null,
   "metadata": {},
   "outputs": [],
   "source": [
    "start_time = time.time()\n",
    "\n",
    "print(d[999999])\n",
    "\n",
    "end_time = time.time() - start_time\n",
    "\n",
    "print(f\"elapsed time for dictionary )"
   ]
  },
  {
   "cell_type": "code",
   "execution_count": 70,
   "metadata": {},
   "outputs": [
    {
     "name": "stdout",
     "output_type": "stream",
     "text": [
      "Enter a name or say 'quit' to quit: bob\n",
      "Enter an address or say 'quit' to quit:  123 main st\n",
      "Enter a name or say 'quit' to quit: quit\n",
      "The address for bob is 123 main st. Go visit them! But call first cause otherwise thats rude.\n"
     ]
    }
   ],
   "source": [
    "info = {}\n",
    "\n",
    "while True:\n",
    "    name = input(\"Enter a name or say 'quit' to quit: \")\n",
    "    if name.lower().strip() != 'quit':\n",
    "        address = input(\"Enter an address or say 'quit' to quit:  \")\n",
    "    \n",
    "    if name.lower().strip() == 'quit' or address.lower().strip() == 'quit':\n",
    "        for key, value in info.items():\n",
    "            print(f\"The address for {key} is {value}. Go visit them! But call first cause otherwise thats rude.\")\n",
    "        break\n",
    "    \n",
    "    info[name] = address\n",
    "\n",
    "        \n",
    "    "
   ]
  },
  {
   "cell_type": "markdown",
   "metadata": {},
   "source": [
    "## Set <br>\n",
    "<p>A Set is an unordered collection data type that is iterable (loop), mutable, and has no duplicate elements.<br>Major advantage is that it is highly optimized in checking if something is in the set, as opposed to checking if something is in a list.</p>"
   ]
  },
  {
   "cell_type": "markdown",
   "metadata": {},
   "source": [
    "##### Declaring"
   ]
  },
  {
   "cell_type": "code",
   "execution_count": 57,
   "metadata": {
    "scrolled": false
   },
   "outputs": [
    {
     "name": "stdout",
     "output_type": "stream",
     "text": [
      "{8, 1, 4}\n",
      "{1, 4, 5, 6, 7, 8, 9}\n"
     ]
    }
   ],
   "source": [
    "# set() or {}\n",
    "# no order {3, 2, 1} outputs as {1, 2, 3}\n",
    "\n",
    "nums = {4, 1, 8, 4}\n",
    "\n",
    "print(nums)\n",
    "\n",
    "my_list = [1,1,1,1,1,4,5,6,6,6,6,6,6,6,7,7,8,9,9,9,9,9,9]\n",
    "\n",
    "my_set = set(my_list)\n",
    "print(my_set)"
   ]
  },
  {
   "cell_type": "code",
   "execution_count": null,
   "metadata": {
    "scrolled": true
   },
   "outputs": [],
   "source": []
  },
  {
   "cell_type": "code",
   "execution_count": null,
   "metadata": {},
   "outputs": [],
   "source": []
  },
  {
   "cell_type": "markdown",
   "metadata": {},
   "source": [
    "##### .add()"
   ]
  },
  {
   "cell_type": "code",
   "execution_count": null,
   "metadata": {},
   "outputs": [],
   "source": []
  },
  {
   "cell_type": "markdown",
   "metadata": {},
   "source": [
    "##### .remove()"
   ]
  },
  {
   "cell_type": "code",
   "execution_count": null,
   "metadata": {},
   "outputs": [],
   "source": []
  },
  {
   "cell_type": "markdown",
   "metadata": {},
   "source": [
    "##### .union() "
   ]
  },
  {
   "cell_type": "code",
   "execution_count": null,
   "metadata": {},
   "outputs": [],
   "source": []
  },
  {
   "cell_type": "markdown",
   "metadata": {},
   "source": [
    "##### .intersection()"
   ]
  },
  {
   "cell_type": "code",
   "execution_count": null,
   "metadata": {},
   "outputs": [],
   "source": []
  },
  {
   "cell_type": "markdown",
   "metadata": {},
   "source": [
    "##### .difference()"
   ]
  },
  {
   "cell_type": "code",
   "execution_count": null,
   "metadata": {},
   "outputs": [],
   "source": []
  },
  {
   "cell_type": "markdown",
   "metadata": {},
   "source": [
    "##### .clear()"
   ]
  },
  {
   "cell_type": "code",
   "execution_count": null,
   "metadata": {},
   "outputs": [],
   "source": []
  },
  {
   "cell_type": "code",
   "execution_count": null,
   "metadata": {},
   "outputs": [],
   "source": []
  },
  {
   "cell_type": "markdown",
   "metadata": {},
   "source": [
    "##### Frozenset <br>\n",
    "<p>Frozen sets are immutable objects that only support methods and operators that produce a result without affecting the frozen set or sets to which they are applied.</p><br><b>Unique & Immutable</b>"
   ]
  },
  {
   "cell_type": "code",
   "execution_count": null,
   "metadata": {},
   "outputs": [],
   "source": []
  },
  {
   "cell_type": "markdown",
   "metadata": {},
   "source": [
    "# Exercises"
   ]
  },
  {
   "cell_type": "markdown",
   "metadata": {},
   "source": [
    "### 1) Build a Shopping Cart <br>\n",
    "<p><b>You can use either lists or dictionaries. The program should have the following capabilities:</b><br><br>\n",
    "1) Takes in input <br>\n",
    "2) Stores user input into a dictionary or list <br>\n",
    "3) The User can add or delete items <br>\n",
    "4) The User can see current shopping list <br>\n",
    "5) The program Loops until user 'quits' <br>\n",
    "6) Upon quiting the program, print out all items in the user's list <br>\n",
    "</p>"
   ]
  },
  {
   "cell_type": "code",
   "execution_count": 11,
   "metadata": {},
   "outputs": [
    {
     "name": "stdout",
     "output_type": "stream",
     "text": [
      "Please enter an item you would like to buy or say ['quit'] to quit: apples\n",
      "Please tell me how many you would like to buy: 5\n",
      "Would you like to see your current list [y/n]? n\n",
      "Please enter an item you would like to buy or say ['quit'] to quit: bananas\n",
      "Please tell me how many you would like to buy: 3\n",
      "Would you like to see your current list [y/n]? n\n",
      "Please enter an item you would like to buy or say ['quit'] to quit: cheese\n",
      "Please tell me how many you would like to buy: 1\n",
      "Would you like to see your current list [y/n]? y\n",
      "This is your current shopping list:\n",
      " 5 apples\n",
      " 3 bananas\n",
      " 1 cheese\n",
      "Please enter an item you would like to buy or say ['quit'] to quit: quit\n",
      "Would you like to add an item ['a'], or delete an item ['d']? If not say ['quit']. a\n",
      "What would you like to add?milk\n",
      "Please tell me how many you would like to buy: \n",
      "These are the items on your shopping list:\n",
      " 5 apples\n",
      " 3 bananas\n",
      " 1 cheese\n",
      "  milk\n",
      "Please enter an item you would like to buy or say ['quit'] to quit: quit\n",
      "Would you like to add an item ['a'], or delete an item ['d']? If not say ['quit']. d\n",
      "Which item would you like to delete?milk\n",
      "These are the items on your shopping list:\n",
      " 5 apples\n",
      " 3 bananas\n",
      " 1 cheese\n",
      "Please enter an item you would like to buy or say ['quit'] to quit: quit\n",
      "Would you like to add an item ['a'], or delete an item ['d']? If not say ['quit']. quit\n",
      "These are the items on your shopping list:\n",
      " 5 apples\n",
      " 3 bananas\n",
      " 1 cheese\n"
     ]
    }
   ],
   "source": [
    "from IPython.display import clear_output\n",
    "\n",
    "# Ask the user four bits of input: Do you want to : Show/Add/Delete or Quit?\n",
    "shopping = True\n",
    "shopping_list = {}\n",
    "\n",
    "\n",
    "while True:\n",
    "    item = input(\"Please enter an item you would like to buy or say ['quit'] to quit: \")\n",
    "    \n",
    "    if item.lower().strip() != 'quit':\n",
    "        \n",
    "        quantity = input(\"Please tell me how many you would like to buy: \")\n",
    "# play around with while loop here....\n",
    "        shopping_list[item] = quantity\n",
    "\n",
    "        action = input(\"Would you like to see your current list [y/n]? \")\n",
    "    \n",
    "        if action.lower().strip() == 'y':\n",
    "            print(f\"This is your current shopping list:\")\n",
    "            for key, value in shopping_list.items():\n",
    "                print(f\" {value} {key}\")\n",
    "                    \n",
    "    if item.lower().strip() == 'quit':\n",
    "        action2 = input(\"Would you like to add an item ['a'], or delete an item ['d']? If not say ['quit']. \")\n",
    "        \n",
    "        if action2.lower().strip() == 'a':\n",
    "            added_item = input(\"What would you like to add?\") \n",
    "            added_quantity = input(\"Please tell me how many you would like to buy: \")\n",
    "            shopping_list[added_item] = added_quantity\n",
    "            print(f\"These are the items on your shopping list:\")\n",
    "            for key, value in shopping_list.items():\n",
    "                print(f\" {value} {key}\")\n",
    "            \n",
    "        elif action2.lower().strip() == 'd':\n",
    "            deleted_item = input(\"Which item would you like to delete?\")\n",
    "            del shopping_list[deleted_item]\n",
    "            print(f\"These are the items on your shopping list:\")\n",
    "            for key, value in shopping_list.items():\n",
    "                print(f\" {value} {key}\")\n",
    "                \n",
    "        elif action2.lower().strip() == 'quit':\n",
    "            print(f\"These are the items on your shopping list:\")\n",
    "            for key, value in shopping_list.items():\n",
    "                print(f\" {value} {key}\")\n",
    "            break\n",
    "            "
   ]
  },
  {
   "cell_type": "markdown",
   "metadata": {},
   "source": [
    "### 2) Set Practice"
   ]
  },
  {
   "cell_type": "markdown",
   "metadata": {},
   "source": [
    "<p><b>Remove all duplicates from the following list</b></p>"
   ]
  },
  {
   "cell_type": "code",
   "execution_count": 59,
   "metadata": {},
   "outputs": [
    {
     "name": "stdout",
     "output_type": "stream",
     "text": [
      "{1, 2, 3, 4, 5, 6, 11, 12, 14, 16}\n"
     ]
    }
   ],
   "source": [
    "nums_list = [1, 1, 1, 2, 2, 3, 5, 6, 4, 12, 11, 12, 12, 14, 16, 16, 16, 1, 1, 1, 2, 2]\n",
    "\n",
    "new_list = set(nums_list)\n",
    "\n",
    "print(new_list)"
   ]
  },
  {
   "cell_type": "markdown",
   "metadata": {},
   "source": [
    "<p><b>Out put the intersection of the following the following sets.</b></p>"
   ]
  },
  {
   "cell_type": "code",
   "execution_count": 60,
   "metadata": {},
   "outputs": [
    {
     "name": "stdout",
     "output_type": "stream",
     "text": [
      "{26, 27}\n"
     ]
    }
   ],
   "source": [
    "set1 = {20, 24, 26, 27}\n",
    "set2 = {26, 35, 63, 27}\n",
    "\n",
    "set3 = set1 & set2\n",
    "\n",
    "print(set3)"
   ]
  },
  {
   "cell_type": "markdown",
   "metadata": {},
   "source": [
    "<p><b>Output the difference between the following sets</b></p>"
   ]
  },
  {
   "cell_type": "code",
   "execution_count": 61,
   "metadata": {},
   "outputs": [
    {
     "name": "stdout",
     "output_type": "stream",
     "text": [
      "{89, 100}\n",
      "{54, 103}\n"
     ]
    }
   ],
   "source": [
    "set3 = {100, 65, 89, 200}\n",
    "set4 = {65, 103, 54, 200}\n",
    "\n",
    "set5 = set3 - set4\n",
    "print(set5)\n",
    "\n",
    "set6 = set4 - set3\n",
    "print(set6)"
   ]
  }
 ],
 "metadata": {
  "kernelspec": {
   "display_name": "Python 3 (ipykernel)",
   "language": "python",
   "name": "python3"
  },
  "language_info": {
   "codemirror_mode": {
    "name": "ipython",
    "version": 3
   },
   "file_extension": ".py",
   "mimetype": "text/x-python",
   "name": "python",
   "nbconvert_exporter": "python",
   "pygments_lexer": "ipython3",
   "version": "3.10.10"
  }
 },
 "nbformat": 4,
 "nbformat_minor": 2
}
